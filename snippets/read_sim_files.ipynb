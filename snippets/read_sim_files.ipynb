{
 "cells": [
  {
   "cell_type": "code",
   "execution_count": 122,
   "metadata": {},
   "outputs": [
    {
     "name": "stdout",
     "output_type": "stream",
     "text": [
      "<type 'numpy.ndarray'>\n",
      "<type 'numpy.float64'>\n",
      "<type 'numpy.ndarray'>\n",
      "<type 'numpy.float64'>\n",
      "<type 'numpy.ndarray'>\n",
      "<type 'numpy.float64'>\n",
      "(257,)\n",
      "(257,)\n"
     ]
    },
    {
     "data": {
      "image/png": "[encoded data removed]",
      "text/plain": [
       "<matplotlib.figure.Figure at 0x7f6534b70890>"
      ]
     },
     "metadata": {},
     "output_type": "display_data"
    }
   ],
   "source": [
    "import os\n",
    "import pdb\n",
    "import numpy as np\n",
    "import linecache\n",
    "import matplotlib.pyplot as plt\n",
    "from matplotlib.mlab import psd\n",
    "\n",
    "def extract_lfp_and_time(sim_file):\n",
    "    lgn_line = linecache.getline(sim_file, 1)\n",
    "    lgn_lfp = np.array(map(float, lgn_line.split()))\n",
    "    time_line = linecache.getline(sim_file, 5)\n",
    "    time = np.array(map(float, time_line.split()))\n",
    "    print type(lgn_lfp)\n",
    "    print type(lgn_lfp[0])\n",
    "    return (time, lgn_lfp)\n",
    "\n",
    "sim_time = 500e-3\n",
    "path = '/home/homerobse/lgn-v1/data_files'\n",
    "fname_prefix = '2018-04-02 00:39:27.361073_'\n",
    "fname_con = '[0, 3e-05, 3e-05, 3e-05]_sim-'\n",
    "nsims = 3\n",
    "dt = 0.025e-3\n",
    "nsamples = int(sim_time/dt/40)  # only stored every 40th data point\n",
    "Fs = 1/dt/40  # only stored every 40th data point\n",
    "# Fs = 1/2.5e-05\n",
    "nfft = int(sim_time/dt/40)  # only stored every 40th data point\n",
    "zero_padding = int(1<<(nfft-1).bit_length())  # zero padding to be a power of 2\n",
    "\n",
    "sim_file = os.path.join(path, fname)\n",
    "lgn_pows = np.empty((nsims, 257))\n",
    "for nsim in np.arange(nsims):\n",
    "    sim_file = os.path.join(path, fname_prefix + fname_con + str(nsim) + '.txt')\n",
    "    (time, lgn_lfp) = extract_lfp_and_time(sim_file)\n",
    "    (lgn_pows[nsim, :], freqpsd) = psd(lgn_lfp, nfft, Fs, pad_to=zero_padding)  # args are signal, nfft, Fs\n",
    "\n",
    "sem = np.std(lgn_pows, axis=0)/nsims**0.5\n",
    "# plt.figure(1)\n",
    "# plt.plot(time, lgn_lfps[0,:])\n",
    "# plt.title('LGN LFP')\n",
    "# plt.xlabel('Time (ms)')\n",
    "\n",
    "plt.figure(2)\n",
    "plt.plot(freqpsd, Pxx)\n",
    "print np.shape(sem)\n",
    "print np.shape(Pxx)\n",
    "plt.fill_between(freqpsd, Pxx-sem, Pxx+sem)\n",
    "plt.xlim([0, 150])\n",
    "plt.title('PSD of LGN LFP')\n",
    "plt.xlabel('Frequency (Hz)')\n",
    "\n",
    "plt.show()"
   ]
  }
 ],
 "metadata": {
  "kernelspec": {
   "display_name": "Python 2",
   "language": "python",
   "name": "python2"
  },
  "language_info": {
   "codemirror_mode": {
    "name": "ipython",
    "version": 2
   },
   "file_extension": ".py",
   "mimetype": "text/x-python",
   "name": "python",
   "nbconvert_exporter": "python",
   "pygments_lexer": "ipython2",
   "version": "2.7.12"
  }
 },
 "nbformat": 4,
 "nbformat_minor": 2
}
